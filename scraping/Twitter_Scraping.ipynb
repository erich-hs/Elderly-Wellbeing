{
  "nbformat": 4,
  "nbformat_minor": 0,
  "metadata": {
    "colab": {
      "name": "Tweeter_Scraping.ipynb",
      "provenance": [],
      "collapsed_sections": []
    },
    "kernelspec": {
      "name": "python3",
      "display_name": "Python 3"
    },
    "language_info": {
      "name": "python"
    }
  },
  "cells": [
    {
      "cell_type": "code",
      "execution_count": 1,
      "metadata": {
        "id": "NKC2jL0JMv6n"
      },
      "outputs": [],
      "source": [
        "# Import packages\n",
        "import requests\n",
        "import os\n",
        "import json\n",
        "import pandas as pd\n",
        "import csv\n",
        "import datetime\n",
        "import dateutil.parser\n",
        "import unicodedata\n",
        "import time"
      ]
    },
    {
      "cell_type": "code",
      "source": [
        "# Setting bearer token as an environment variable\n",
        "# os.environ['TOKEN'] = '<ADD_BEARER_TOKEN>'"
      ],
      "metadata": {
        "id": "adDUslkpOfDp"
      },
      "execution_count": 2,
      "outputs": []
    },
    {
      "cell_type": "code",
      "source": [
        "def auth():\n",
        "  return os.getenv('TOKEN')"
      ],
      "metadata": {
        "id": "2yl4sBbnVQFq"
      },
      "execution_count": 4,
      "outputs": []
    },
    {
      "cell_type": "code",
      "source": [
        "# Create headers\n",
        "def create_headers(bearer_token):\n",
        "  headers = {\"Authorization\": \"Bearer {}\".format(bearer_token)}\n",
        "  return headers"
      ],
      "metadata": {
        "id": "qepLc4gZVa9q"
      },
      "execution_count": 14,
      "outputs": []
    },
    {
      "cell_type": "code",
      "source": [
        "# Create URL\n",
        "def create_url(keyword, start_date, end_date, max_results = 10):\n",
        "  search_url = \"https://api.twitter.com/2/tweets/search/recent\"\n",
        "\n",
        "  query_params = {'query': keyword,\n",
        "                  'start_time': start_date,\n",
        "                  'end_time': end_date,\n",
        "                  'max_results': max_results,\n",
        "                  'expansions': 'author_id,in_reply_to_user_id,geo.place_id',\n",
        "                  'tweet.fields': 'id,text,author_id,in_reply_to_user_id,geo,conversation_id,created_at,lang,public_metrics,referenced_tweets,reply_settings,source',\n",
        "                  'user.fields': 'id,name,username,created_at,description,public_metrics,verified',\n",
        "                  'place.fields': 'full_name,id,country,country_code,geo,name,place_type',\n",
        "                  'next_token': {}}\n",
        "  return (search_url, query_params)"
      ],
      "metadata": {
        "id": "hrft8F0yV0UC"
      },
      "execution_count": 15,
      "outputs": []
    },
    {
      "cell_type": "code",
      "source": [
        "# Connect to Endpoint\n",
        "def connect_to_endpoint(url, headers, params, next_token = None):\n",
        "    params['next_token'] = next_token   # params object received from create_url function\n",
        "    response = requests.request(\"GET\", url, headers = headers, params = params)\n",
        "    print(\"Endpoint Response Code: \" + str(response.status_code))\n",
        "    if response.status_code != 200:\n",
        "        raise Exception(response.status_code, response.text)\n",
        "    return response.json()"
      ],
      "metadata": {
        "id": "KJN2YyH7a7YR"
      },
      "execution_count": 16,
      "outputs": []
    },
    {
      "cell_type": "code",
      "source": [
        "# Inputs for the request\n",
        "bearer_token = auth()\n",
        "headers = create_headers(bearer_token)\n",
        "keyword = \"elders\"\n",
        "start_time = \"2022-01-12T00:00:00.000Z\"\n",
        "end_time = \"2022-01-17T00:00:00.000Z\"\n",
        "max_results = 15"
      ],
      "metadata": {
        "id": "vcrsjRuxbcwi"
      },
      "execution_count": 21,
      "outputs": []
    },
    {
      "cell_type": "code",
      "source": [
        "# Creating URL and JSON response object\n",
        "url = create_url(keyword, start_time,end_time, max_results)\n",
        "json_response = connect_to_endpoint(url[0], headers, url[1])"
      ],
      "metadata": {
        "colab": {
          "base_uri": "https://localhost:8080/"
        },
        "id": "WQsGowaWcoQC",
        "outputId": "cd21b70c-9134-44cd-dc42-53a94fbdbd35"
      },
      "execution_count": 22,
      "outputs": [
        {
          "output_type": "stream",
          "name": "stdout",
          "text": [
            "Endpoint Response Code: 200\n"
          ]
        }
      ]
    },
    {
      "cell_type": "code",
      "source": [
        "# Response data\n",
        "print(json.dumps(json_response, indent=4, sort_keys=True))"
      ],
      "metadata": {
        "id": "p7dfo_86jRmx"
      },
      "execution_count": null,
      "outputs": []
    },
    {
      "cell_type": "code",
      "source": [
        "# Tweet response text, dates, and time\n",
        "for tweet in json_response['data']:\n",
        "  print(tweet['created_at'], tweet['text'])"
      ],
      "metadata": {
        "colab": {
          "base_uri": "https://localhost:8080/"
        },
        "id": "jjhjms-PjiYR",
        "outputId": "89e4eae1-2f13-48dc-c36c-504d7fb80425"
      },
      "execution_count": 31,
      "outputs": [
        {
          "output_type": "stream",
          "name": "stdout",
          "text": [
            "2022-01-16T23:59:55.000Z RT @SpiesVespers: IT'S TIME FOR STRANGE SPY FACTS! DEZINFORMATSIYA AND PROPAGANDA EDITION! \n",
            "The 1st English translation of Protocol of Elde…\n",
            "2022-01-16T23:59:36.000Z RT @SeffSaid: \"I’m old school. I believe in having good manners, respecting my elders and helping others when I can.\" - Unknown\n",
            "2022-01-16T23:59:31.000Z RT @EthernalElves: SeNTinels finally step foot in the Elders Sanctum.  Ethereal reverbs used to echo throughout the Sanctum now filled with…\n",
            "2022-01-16T23:59:22.000Z @DecentFilms Is this review another complaint about kids being right and elders being wrong? If so…please don’t. 😕\n",
            "2022-01-16T23:59:06.000Z @revisser @JoostNiemoller Het probleem zit hem niet in de kleine partijtjes, maar juist in regeringspartijen met hun \"functie elders\", en het gelieg en gedraai daarna. Die daarna elkaar ook nog gaan uitsluiten om elkaar daarna na heel veel gezeik en theater weer in de armen te vallen.\n",
            "2022-01-16T23:59:01.000Z RT @Ebonyteach: Dr. King was only 39 when he was killed. All of Gen X would've been born before he turned 50... all of the Millennials, bef…\n",
            "2022-01-16T23:58:54.000Z RT @romeofiji: I was here yesterday. And through that inlet entering the village we saw ripples of water coming and rushing in. Occurred 3…\n",
            "2022-01-16T23:58:29.000Z RT @SeffSaid: \"I’m old school. I believe in having good manners, respecting my elders and helping others when I can.\" - Unknown\n",
            "2022-01-16T23:58:21.000Z @IAmOroro They’re just contrarians. Outsmarting themselves by being super✌🏾deep thinkers✌🏾.  Goofies believe all the black elders that got them to this point of freedom were fools. \n",
            "\n",
            "They have no clue how those civil rights giants strategized. They were brilliant people.\n",
            "2022-01-16T23:57:56.000Z RT @SeffSaid: \"I’m old school. I believe in having good manners, respecting my elders and helping others when I can.\" - Unknown\n",
            "2022-01-16T23:57:48.000Z 〝Si, That's why it's better to talk to elders or your parents to find out what that word or thing is.〞 https://t.co/XaUE4WhyWU\n",
            "2022-01-16T23:57:35.000Z RT @Ebonyteach: Dr. King was only 39 when he was killed. All of Gen X would've been born before he turned 50... all of the Millennials, bef…\n",
            "2022-01-16T23:57:32.000Z @BinghamBg @squirre72213852 @Quin4Trump @porfie_moreno @DorisMele @DarrellBuckne13 @keepitwilder @TinaTweeker @Kimberl47031679 @ISafeyet @jen95873143 @kcinor @Lynn95394989 @kithercbaby @MarvinRJeffcoat @S51781902 @Cavitation19 @tnolwene @Wahboom @nicher66 @yvonnecar20 @TheChicoSuave1 @Amerihesion @TrumperList @NoBulls55224206 @TyroneWJackson @Francine20171 @Alice_GhostP @AdorablePups5 @NoMoreBlue1 @SchweizerZeke @angry_mema @SlaterBrowne @Noel82002324 @Gloriaoldsurfer @Michel78118339 @sgabig @truthsearch1957 @ButchOrNile @B26Rick @thedude77 @FlownOverGuy @Una_Alta_Volta @StillFreeSCOTTY @MarilynLavala @Tee2019K @patriot_roll @TheRebeluniter @GinnGamer @Ecomemory1 Conservatives respect elders\n",
            "2022-01-16T23:57:28.000Z RT @Ebonyteach: Dr. King was only 39 when he was killed. All of Gen X would've been born before he turned 50... all of the Millennials, bef…\n",
            "2022-01-16T23:57:26.000Z RT @Josieamycashman: @BabsMcHugh &amp; her ABC mob continue to act with impunity like they've got a moral revulsion for elders &amp; the facts. She…\n"
          ]
        }
      ]
    },
    {
      "cell_type": "code",
      "source": [
        "## Saving tweets to .csv file\n",
        "# Creating .csv\n",
        "csvFile = open(\"data/test_tweets.csv\", \"a\", newline=\"\", encoding='utf-8')\n",
        "csvWriter = csv.writer(csvFile)\n",
        "\n",
        "# DF headers\n",
        "csvWriter.writerow(['author id', 'created_at', 'geo', 'id','lang', 'like_count', 'quote_count', 'reply_count','retweet_count','source','tweet'])\n",
        "csvFile.close()\n",
        "\n",
        "def append_to_csv(json_response, fileName):\n",
        "    counter = 0\n",
        "\n",
        "    #Open OR create the target CSV file\n",
        "    csvFile = open(fileName, \"a\", newline=\"\", encoding='utf-8')\n",
        "    csvWriter = csv.writer(csvFile)\n",
        "\n",
        "    for tweet in json_response['data']:\n",
        "        \n",
        "        author_id = tweet['author_id']\n",
        "        created_at = dateutil.parser.parse(tweet['created_at'])\n",
        "        \n",
        "        if ('geo' in tweet):                # Filtering for unspecified geo locations\n",
        "            geo = tweet['geo']['place_id']\n",
        "        else:\n",
        "            geo = \" \"\n",
        "\n",
        "        tweet_id = tweet['id']\n",
        "\n",
        "        lang = tweet['lang']\n",
        "\n",
        "        # Tweet metrics\n",
        "        retweet_count = tweet['public_metrics']['retweet_count']\n",
        "        reply_count = tweet['public_metrics']['reply_count']\n",
        "        like_count = tweet['public_metrics']['like_count']\n",
        "        quote_count = tweet['public_metrics']['quote_count']\n",
        "\n",
        "        # Source\n",
        "        source = tweet['source']\n",
        "\n",
        "        # Tweet text\n",
        "        text = tweet['text']\n",
        "        \n",
        "        res = [author_id, created_at, geo, tweet_id, lang, like_count, quote_count, reply_count, retweet_count, source, text]\n",
        "        \n",
        "        # Append the result to the CSV file\n",
        "        csvWriter.writerow(res)\n",
        "        counter += 1\n",
        "\n",
        "    csvFile.close()\n",
        "\n",
        "    # Print the number of tweets for this iteration\n",
        "    print(\"# Tweets added from this response: \", counter)"
      ],
      "metadata": {
        "id": "un_gd7YlkAbh"
      },
      "execution_count": 26,
      "outputs": []
    },
    {
      "cell_type": "code",
      "source": [
        "append_to_csv(json_response, \"data/test_tweets.csv\")"
      ],
      "metadata": {
        "colab": {
          "base_uri": "https://localhost:8080/"
        },
        "id": "vxAQLhqnlMOZ",
        "outputId": "40f314c8-133f-4d0b-e590-ad02ffbb2dd5"
      },
      "execution_count": 27,
      "outputs": [
        {
          "output_type": "stream",
          "name": "stdout",
          "text": [
            "# Tweets added from this response:  15\n"
          ]
        }
      ]
    }
  ]
}