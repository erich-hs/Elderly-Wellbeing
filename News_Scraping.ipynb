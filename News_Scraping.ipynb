{
  "nbformat": 4,
  "nbformat_minor": 0,
  "metadata": {
    "colab": {
      "name": "News_Scraping.ipynb",
      "provenance": [],
      "collapsed_sections": [],
      "toc_visible": true
    },
    "kernelspec": {
      "name": "python3",
      "display_name": "Python 3"
    },
    "language_info": {
      "name": "python"
    }
  },
  "cells": [
    {
      "cell_type": "markdown",
      "source": [
        "# Seniors Advocate BC\n",
        "\n",
        "The Office of the Seniors Advocate is an independent office of the B.C. provincial government acting in the interest of seniors and their caregivers."
      ],
      "metadata": {
        "id": "w1PReEA9lpeX"
      }
    },
    {
      "cell_type": "markdown",
      "source": [
        "### Reports\n",
        "Scraping of annual publications reports at https://www.seniorsadvocatebc.ca/reports/"
      ],
      "metadata": {
        "id": "NvRSMGtsmDrh"
      }
    },
    {
      "cell_type": "code",
      "source": [
        "!pip install PyPDF2"
      ],
      "metadata": {
        "colab": {
          "base_uri": "https://localhost:8080/"
        },
        "id": "w7RdL7QKniB7",
        "outputId": "37ade35d-53d8-4a84-c67b-c5217c05d498"
      },
      "execution_count": 250,
      "outputs": [
        {
          "output_type": "stream",
          "name": "stdout",
          "text": [
            "Collecting PyPDF2\n",
            "  Downloading PyPDF2-1.26.0.tar.gz (77 kB)\n",
            "\u001b[?25l\r\u001b[K     |████▎                           | 10 kB 28.4 MB/s eta 0:00:01\r\u001b[K     |████████▌                       | 20 kB 28.5 MB/s eta 0:00:01\r\u001b[K     |████████████▊                   | 30 kB 18.4 MB/s eta 0:00:01\r\u001b[K     |█████████████████               | 40 kB 16.8 MB/s eta 0:00:01\r\u001b[K     |█████████████████████▏          | 51 kB 16.3 MB/s eta 0:00:01\r\u001b[K     |█████████████████████████▍      | 61 kB 14.8 MB/s eta 0:00:01\r\u001b[K     |█████████████████████████████▋  | 71 kB 14.4 MB/s eta 0:00:01\r\u001b[K     |████████████████████████████████| 77 kB 4.3 MB/s \n",
            "\u001b[?25hBuilding wheels for collected packages: PyPDF2\n",
            "  Building wheel for PyPDF2 (setup.py) ... \u001b[?25l\u001b[?25hdone\n",
            "  Created wheel for PyPDF2: filename=PyPDF2-1.26.0-py3-none-any.whl size=61102 sha256=065e8e7f31199f0c2b775719d8d37f12f228086906d0ab7891c848dabcc24278\n",
            "  Stored in directory: /root/.cache/pip/wheels/80/1a/24/648467ade3a77ed20f35cfd2badd32134e96dd25ca811e64b3\n",
            "Successfully built PyPDF2\n",
            "Installing collected packages: PyPDF2\n",
            "Successfully installed PyPDF2-1.26.0\n"
          ]
        }
      ]
    },
    {
      "cell_type": "code",
      "execution_count": 251,
      "metadata": {
        "id": "7OuWkS72rTVD"
      },
      "outputs": [],
      "source": [
        "import requests\n",
        "import pandas as pd\n",
        "import io\n",
        "from bs4 import BeautifulSoup\n",
        "from PyPDF2 import PdfFileReader"
      ]
    },
    {
      "cell_type": "code",
      "source": [
        "reports_url = \"https://www.seniorsadvocatebc.ca/reports/\"\n",
        "reports_page = requests.get(reports_url)\n",
        "reports_page"
      ],
      "metadata": {
        "colab": {
          "base_uri": "https://localhost:8080/"
        },
        "id": "i0WXNfzr72gL",
        "outputId": "bf8fe70d-e40e-4f1a-9ab1-a9169b3b38f0"
      },
      "execution_count": 292,
      "outputs": [
        {
          "output_type": "execute_result",
          "data": {
            "text/plain": [
              "<Response [200]>"
            ]
          },
          "metadata": {},
          "execution_count": 292
        }
      ]
    },
    {
      "cell_type": "code",
      "source": [
        "soup = BeautifulSoup(reports_page.content, 'html.parser')"
      ],
      "metadata": {
        "id": "jdsntBdc7_wi"
      },
      "execution_count": 293,
      "outputs": []
    },
    {
      "cell_type": "code",
      "source": [
        "reports = {}\n",
        "reports['links'] = []\n",
        "reports['dates'] = []\n",
        "reports['header'] = []\n",
        "reports['body'] = []\n",
        "reports['b_points'] = []\n",
        "\n",
        "reports_a = soup.find_all('a', class_='accordion-post-title', href = True)\n",
        "[reports['links'].append(link['href']) for link in reports_a]\n",
        "\n",
        "reports_span = soup.find_all('span', class_ = 'accordion-post-date')\n",
        "[reports['dates'].append(date.get_text()) for date in list(reports_span)]\n",
        "\n",
        "reports['links']"
      ],
      "metadata": {
        "colab": {
          "base_uri": "https://localhost:8080/"
        },
        "id": "HExhWrhq8dea",
        "outputId": "c401e34f-82d8-4088-e3cf-0e8fced3f554"
      },
      "execution_count": 299,
      "outputs": [
        {
          "output_type": "execute_result",
          "data": {
            "text/plain": [
              "['https://www.seniorsadvocatebc.ca/osa-reports/hidden-and-invisible-report/',\n",
              " 'https://www.seniorsadvocatebc.ca/osa-reports/covid-outbreak-review-report/',\n",
              " 'https://www.seniorsadvocatebc.ca/osa-reports/staying-apart-to-stay-safe-survey/',\n",
              " 'https://www.seniorsadvocatebc.ca/osa-reports/a-billion-reasons-to-care/',\n",
              " 'https://www.seniorsadvocatebc.ca/osa-reports/report-home-support-review/',\n",
              " 'https://www.seniorsadvocatebc.ca/osa-reports/report-seniors-at-home-and-in-long-term-care-2017-18-snapshot/',\n",
              " 'https://www.seniorsadvocatebc.ca/osa-reports/report-from-residential-care-to-hospital-an-emerging-pattern/',\n",
              " 'https://www.seniorsadvocatebc.ca/osa-reports/seniors-transportation-affordable-accessible-and-appropriate/',\n",
              " 'https://www.seniorsadvocatebc.ca/osa-reports/residential-care-survey/',\n",
              " 'https://www.seniorsadvocatebc.ca/osa-reports/caregivers-in-distress-a-growing-problem-2/',\n",
              " 'https://www.seniorsadvocatebc.ca/osa-reports/moving-in-the-right-direction-handydart-survey-results/',\n",
              " 'https://www.seniorsadvocatebc.ca/osa-reports/report-making-progress-placement-drugs-and-therapy-update/',\n",
              " 'https://www.seniorsadvocatebc.ca/osa-reports/listening-to-your-voice-home-support-survey-results-released/',\n",
              " 'https://www.seniorsadvocatebc.ca/osa-reports/report-resident-to-resident-aggression-in-b-c-care-homes/',\n",
              " 'https://www.seniorsadvocatebc.ca/osa-reports/caregivers-in-distress-more-respite-needed/',\n",
              " 'https://www.seniorsadvocatebc.ca/osa-reports/seniors-housing-in-b-c-affordable-appropriate-available/',\n",
              " 'https://www.seniorsadvocatebc.ca/osa-reports/placement-drugs-and-therapy-we-can-do-better/',\n",
              " 'https://www.seniorsadvocatebc.ca/osa-reports/b-c-seniors-survey-bridging-the-gaps/',\n",
              " 'https://www.seniorsadvocatebc.ca/osa-reports/the-journey-begins-together-we-can-do-better/']"
            ]
          },
          "metadata": {},
          "execution_count": 299
        }
      ]
    },
    {
      "cell_type": "code",
      "source": [
        "for link in reports['links']:\n",
        "  url = link\n",
        "  response = requests.get(url)\n",
        "  soup = BeautifulSoup(response.content, 'html.parser')\n",
        "\n",
        "  # CSS selector for header h1 under article\n",
        "  h1 = soup.select('article h1') \n",
        "\n",
        "  # CSS selector for text under main tag\n",
        "  body = soup.select('main p')\n",
        "\n",
        "  # Find_all method for <li> tags\n",
        "  li = soup.find_all('li')\n",
        "\n",
        "  # Populating reports dictionary\n",
        "  reports['header'].append(' '.join([header.get_text(strip = True) for header in list(h1)]))\n",
        "  reports['body'].append(' '.join([item.get_text(strip = True) for item in list(body) if item.get_text() != '']))\n",
        "  reports['b_points'].append(' '.join([item.get_text(strip = True) for item in list(li) if item.get_text() != '']))"
      ],
      "metadata": {
        "id": "BMcC60OFecRp"
      },
      "execution_count": 300,
      "outputs": []
    },
    {
      "cell_type": "code",
      "source": [
        "pd.DataFrame(reports)"
      ],
      "metadata": {
        "colab": {
          "base_uri": "https://localhost:8080/",
          "height": 645
        },
        "id": "lz35wPX6hJto",
        "outputId": "995c4782-44c5-4b7b-9cbd-778243625db4"
      },
      "execution_count": 301,
      "outputs": [
        {
          "output_type": "execute_result",
          "data": {
            "text/html": [
              "\n",
              "  <div id=\"df-2077f439-8af4-462f-bf33-ebcd920a524e\">\n",
              "    <div class=\"colab-df-container\">\n",
              "      <div>\n",
              "<style scoped>\n",
              "    .dataframe tbody tr th:only-of-type {\n",
              "        vertical-align: middle;\n",
              "    }\n",
              "\n",
              "    .dataframe tbody tr th {\n",
              "        vertical-align: top;\n",
              "    }\n",
              "\n",
              "    .dataframe thead th {\n",
              "        text-align: right;\n",
              "    }\n",
              "</style>\n",
              "<table border=\"1\" class=\"dataframe\">\n",
              "  <thead>\n",
              "    <tr style=\"text-align: right;\">\n",
              "      <th></th>\n",
              "      <th>links</th>\n",
              "      <th>dates</th>\n",
              "      <th>header</th>\n",
              "      <th>body</th>\n",
              "      <th>b_points</th>\n",
              "    </tr>\n",
              "  </thead>\n",
              "  <tbody>\n",
              "    <tr>\n",
              "      <th>0</th>\n",
              "      <td>https://www.seniorsadvocatebc.ca/osa-reports/h...</td>\n",
              "      <td>Dec 08, 2021</td>\n",
              "      <td>Hidden and Invisible: Seniors Abuse and Neglec...</td>\n",
              "      <td>In this report, Seniors Advocate Isobel Macken...</td>\n",
              "      <td>49% increase in report of abuse, neglect and s...</td>\n",
              "    </tr>\n",
              "    <tr>\n",
              "      <th>1</th>\n",
              "      <td>https://www.seniorsadvocatebc.ca/osa-reports/c...</td>\n",
              "      <td>Oct 06, 2021</td>\n",
              "      <td>Review of COVID-19 Outbreaks in Care Homes in ...</td>\n",
              "      <td>In this report, Seniors Advocate Isobel Macke...</td>\n",
              "      <td>84% of outbreaks occurred at sites in the lowe...</td>\n",
              "    </tr>\n",
              "    <tr>\n",
              "      <th>2</th>\n",
              "      <td>https://www.seniorsadvocatebc.ca/osa-reports/s...</td>\n",
              "      <td>Nov 03, 2020</td>\n",
              "      <td>Staying Apart to Stay Safe: The Impact of Visi...</td>\n",
              "      <td>In this report, Seniors Advocate Isobel Macke...</td>\n",
              "      <td>Before the pandemic, 55% of families were visi...</td>\n",
              "    </tr>\n",
              "    <tr>\n",
              "      <th>3</th>\n",
              "      <td>https://www.seniorsadvocatebc.ca/osa-reports/a...</td>\n",
              "      <td>Oct 29, 2020</td>\n",
              "      <td>A Billion Reasons to Care</td>\n",
              "      <td>A Billion Reasons to Careis the first provinc...</td>\n",
              "      <td>financial reporting systems were inconsistent ...</td>\n",
              "    </tr>\n",
              "    <tr>\n",
              "      <th>4</th>\n",
              "      <td>https://www.seniorsadvocatebc.ca/osa-reports/r...</td>\n",
              "      <td>Jun 19, 2019</td>\n",
              "      <td>Home Support Review</td>\n",
              "      <td>British Columbia’s home support program is una...</td>\n",
              "      <td>Public home support is unaffordable for most s...</td>\n",
              "    </tr>\n",
              "    <tr>\n",
              "      <th>5</th>\n",
              "      <td>https://www.seniorsadvocatebc.ca/osa-reports/r...</td>\n",
              "      <td>Sep 20, 2018</td>\n",
              "      <td>Seniors at Home and in Long-Term Care – 2017/1...</td>\n",
              "      <td>Seniors Advocate Isobel Mackenzie today releas...</td>\n",
              "      <td></td>\n",
              "    </tr>\n",
              "    <tr>\n",
              "      <th>6</th>\n",
              "      <td>https://www.seniorsadvocatebc.ca/osa-reports/r...</td>\n",
              "      <td>Aug 01, 2018</td>\n",
              "      <td>From Residential Care to Hospital: An Emerging...</td>\n",
              "      <td>Seniors Advocate Isobel Mackenzie today releas...</td>\n",
              "      <td></td>\n",
              "    </tr>\n",
              "    <tr>\n",
              "      <th>7</th>\n",
              "      <td>https://www.seniorsadvocatebc.ca/osa-reports/s...</td>\n",
              "      <td>May 10, 2018</td>\n",
              "      <td>Seniors Transportation: Affordable, Appropriat...</td>\n",
              "      <td>Seniors Advocate Isobel Mackenzie today releas...</td>\n",
              "      <td></td>\n",
              "    </tr>\n",
              "    <tr>\n",
              "      <th>8</th>\n",
              "      <td>https://www.seniorsadvocatebc.ca/osa-reports/r...</td>\n",
              "      <td>Sep 15, 2017</td>\n",
              "      <td>Every Voice Counts: Provincial Residential Car...</td>\n",
              "      <td>Seniors Advocate Isobel Mackenzie today releas...</td>\n",
              "      <td>50% of residents rated the overall quality of ...</td>\n",
              "    </tr>\n",
              "    <tr>\n",
              "      <th>9</th>\n",
              "      <td>https://www.seniorsadvocatebc.ca/osa-reports/c...</td>\n",
              "      <td>Aug 30, 2017</td>\n",
              "      <td>Caregivers in Distress: A Growing Problem</td>\n",
              "      <td>Seniors Advocate Isobel Mackenzie released an ...</td>\n",
              "      <td></td>\n",
              "    </tr>\n",
              "    <tr>\n",
              "      <th>10</th>\n",
              "      <td>https://www.seniorsadvocatebc.ca/osa-reports/m...</td>\n",
              "      <td>Feb 02, 2017</td>\n",
              "      <td>Moving In the Right Direction: HandyDART Surve...</td>\n",
              "      <td>BC’s Seniors Advocate released results of a pr...</td>\n",
              "      <td>Almost 80% of HandyDART clients are able to bo...</td>\n",
              "    </tr>\n",
              "    <tr>\n",
              "      <th>11</th>\n",
              "      <td>https://www.seniorsadvocatebc.ca/osa-reports/r...</td>\n",
              "      <td>Nov 24, 2016</td>\n",
              "      <td>Making Progress: Placement, Drugs and Therapy ...</td>\n",
              "      <td>Seniors Advocate Isobel Mackenzie released an ...</td>\n",
              "      <td>A decrease of 9.6% in potentially inappropriat...</td>\n",
              "    </tr>\n",
              "    <tr>\n",
              "      <th>12</th>\n",
              "      <td>https://www.seniorsadvocatebc.ca/osa-reports/l...</td>\n",
              "      <td>Sep 19, 2016</td>\n",
              "      <td>Listening to your voice: Home support survey r...</td>\n",
              "      <td>The Office of the Seniors Advocate releases re...</td>\n",
              "      <td></td>\n",
              "    </tr>\n",
              "    <tr>\n",
              "      <th>13</th>\n",
              "      <td>https://www.seniorsadvocatebc.ca/osa-reports/r...</td>\n",
              "      <td>Jun 29, 2016</td>\n",
              "      <td>Resident to Resident Aggression in B.C. Care H...</td>\n",
              "      <td>The Office of the Seniors Advocate releases it...</td>\n",
              "      <td></td>\n",
              "    </tr>\n",
              "    <tr>\n",
              "      <th>14</th>\n",
              "      <td>https://www.seniorsadvocatebc.ca/osa-reports/c...</td>\n",
              "      <td>Sep 14, 2015</td>\n",
              "      <td>Caregivers in Distress: More Respite Needed</td>\n",
              "      <td>This report on respite programs found that one...</td>\n",
              "      <td></td>\n",
              "    </tr>\n",
              "    <tr>\n",
              "      <th>15</th>\n",
              "      <td>https://www.seniorsadvocatebc.ca/osa-reports/s...</td>\n",
              "      <td>May 21, 2015</td>\n",
              "      <td>Seniors’ Housing in B.C.: Affordable, Appropri...</td>\n",
              "      <td>The report highlights that 93% of seniors are ...</td>\n",
              "      <td>Louise’s story Isabel’s story Edna’s story</td>\n",
              "    </tr>\n",
              "    <tr>\n",
              "      <th>16</th>\n",
              "      <td>https://www.seniorsadvocatebc.ca/osa-reports/p...</td>\n",
              "      <td>Apr 07, 2015</td>\n",
              "      <td>Placement, Drugs and Therapy…We Can Do Better</td>\n",
              "      <td>The report documents findings from the Advocat...</td>\n",
              "      <td>Up to 15% of B.C. seniors who are living in re...</td>\n",
              "    </tr>\n",
              "    <tr>\n",
              "      <th>17</th>\n",
              "      <td>https://www.seniorsadvocatebc.ca/osa-reports/b...</td>\n",
              "      <td>Mar 04, 2015</td>\n",
              "      <td>B.C. Seniors Survey: Bridging the Gaps</td>\n",
              "      <td>In late 2014, the Seniors Advocate surveyed se...</td>\n",
              "      <td></td>\n",
              "    </tr>\n",
              "    <tr>\n",
              "      <th>18</th>\n",
              "      <td>https://www.seniorsadvocatebc.ca/osa-reports/t...</td>\n",
              "      <td>Oct 22, 2014</td>\n",
              "      <td>The Journey Begins: Together, We Can Do Better</td>\n",
              "      <td>This first report by the Seniors Advocate refl...</td>\n",
              "      <td></td>\n",
              "    </tr>\n",
              "  </tbody>\n",
              "</table>\n",
              "</div>\n",
              "      <button class=\"colab-df-convert\" onclick=\"convertToInteractive('df-2077f439-8af4-462f-bf33-ebcd920a524e')\"\n",
              "              title=\"Convert this dataframe to an interactive table.\"\n",
              "              style=\"display:none;\">\n",
              "        \n",
              "  <svg xmlns=\"http://www.w3.org/2000/svg\" height=\"24px\"viewBox=\"0 0 24 24\"\n",
              "       width=\"24px\">\n",
              "    <path d=\"M0 0h24v24H0V0z\" fill=\"none\"/>\n",
              "    <path d=\"M18.56 5.44l.94 2.06.94-2.06 2.06-.94-2.06-.94-.94-2.06-.94 2.06-2.06.94zm-11 1L8.5 8.5l.94-2.06 2.06-.94-2.06-.94L8.5 2.5l-.94 2.06-2.06.94zm10 10l.94 2.06.94-2.06 2.06-.94-2.06-.94-.94-2.06-.94 2.06-2.06.94z\"/><path d=\"M17.41 7.96l-1.37-1.37c-.4-.4-.92-.59-1.43-.59-.52 0-1.04.2-1.43.59L10.3 9.45l-7.72 7.72c-.78.78-.78 2.05 0 2.83L4 21.41c.39.39.9.59 1.41.59.51 0 1.02-.2 1.41-.59l7.78-7.78 2.81-2.81c.8-.78.8-2.07 0-2.86zM5.41 20L4 18.59l7.72-7.72 1.47 1.35L5.41 20z\"/>\n",
              "  </svg>\n",
              "      </button>\n",
              "      \n",
              "  <style>\n",
              "    .colab-df-container {\n",
              "      display:flex;\n",
              "      flex-wrap:wrap;\n",
              "      gap: 12px;\n",
              "    }\n",
              "\n",
              "    .colab-df-convert {\n",
              "      background-color: #E8F0FE;\n",
              "      border: none;\n",
              "      border-radius: 50%;\n",
              "      cursor: pointer;\n",
              "      display: none;\n",
              "      fill: #1967D2;\n",
              "      height: 32px;\n",
              "      padding: 0 0 0 0;\n",
              "      width: 32px;\n",
              "    }\n",
              "\n",
              "    .colab-df-convert:hover {\n",
              "      background-color: #E2EBFA;\n",
              "      box-shadow: 0px 1px 2px rgba(60, 64, 67, 0.3), 0px 1px 3px 1px rgba(60, 64, 67, 0.15);\n",
              "      fill: #174EA6;\n",
              "    }\n",
              "\n",
              "    [theme=dark] .colab-df-convert {\n",
              "      background-color: #3B4455;\n",
              "      fill: #D2E3FC;\n",
              "    }\n",
              "\n",
              "    [theme=dark] .colab-df-convert:hover {\n",
              "      background-color: #434B5C;\n",
              "      box-shadow: 0px 1px 3px 1px rgba(0, 0, 0, 0.15);\n",
              "      filter: drop-shadow(0px 1px 2px rgba(0, 0, 0, 0.3));\n",
              "      fill: #FFFFFF;\n",
              "    }\n",
              "  </style>\n",
              "\n",
              "      <script>\n",
              "        const buttonEl =\n",
              "          document.querySelector('#df-2077f439-8af4-462f-bf33-ebcd920a524e button.colab-df-convert');\n",
              "        buttonEl.style.display =\n",
              "          google.colab.kernel.accessAllowed ? 'block' : 'none';\n",
              "\n",
              "        async function convertToInteractive(key) {\n",
              "          const element = document.querySelector('#df-2077f439-8af4-462f-bf33-ebcd920a524e');\n",
              "          const dataTable =\n",
              "            await google.colab.kernel.invokeFunction('convertToInteractive',\n",
              "                                                     [key], {});\n",
              "          if (!dataTable) return;\n",
              "\n",
              "          const docLinkHtml = 'Like what you see? Visit the ' +\n",
              "            '<a target=\"_blank\" href=https://colab.research.google.com/notebooks/data_table.ipynb>data table notebook</a>'\n",
              "            + ' to learn more about interactive tables.';\n",
              "          element.innerHTML = '';\n",
              "          dataTable['output_type'] = 'display_data';\n",
              "          await google.colab.output.renderOutput(dataTable, element);\n",
              "          const docLink = document.createElement('div');\n",
              "          docLink.innerHTML = docLinkHtml;\n",
              "          element.appendChild(docLink);\n",
              "        }\n",
              "      </script>\n",
              "    </div>\n",
              "  </div>\n",
              "  "
            ],
            "text/plain": [
              "                                                links  ...                                           b_points\n",
              "0   https://www.seniorsadvocatebc.ca/osa-reports/h...  ...  49% increase in report of abuse, neglect and s...\n",
              "1   https://www.seniorsadvocatebc.ca/osa-reports/c...  ...  84% of outbreaks occurred at sites in the lowe...\n",
              "2   https://www.seniorsadvocatebc.ca/osa-reports/s...  ...  Before the pandemic, 55% of families were visi...\n",
              "3   https://www.seniorsadvocatebc.ca/osa-reports/a...  ...  financial reporting systems were inconsistent ...\n",
              "4   https://www.seniorsadvocatebc.ca/osa-reports/r...  ...  Public home support is unaffordable for most s...\n",
              "5   https://www.seniorsadvocatebc.ca/osa-reports/r...  ...                                                   \n",
              "6   https://www.seniorsadvocatebc.ca/osa-reports/r...  ...                                                   \n",
              "7   https://www.seniorsadvocatebc.ca/osa-reports/s...  ...                                                   \n",
              "8   https://www.seniorsadvocatebc.ca/osa-reports/r...  ...  50% of residents rated the overall quality of ...\n",
              "9   https://www.seniorsadvocatebc.ca/osa-reports/c...  ...                                                   \n",
              "10  https://www.seniorsadvocatebc.ca/osa-reports/m...  ...  Almost 80% of HandyDART clients are able to bo...\n",
              "11  https://www.seniorsadvocatebc.ca/osa-reports/r...  ...  A decrease of 9.6% in potentially inappropriat...\n",
              "12  https://www.seniorsadvocatebc.ca/osa-reports/l...  ...                                                   \n",
              "13  https://www.seniorsadvocatebc.ca/osa-reports/r...  ...                                                   \n",
              "14  https://www.seniorsadvocatebc.ca/osa-reports/c...  ...                                                   \n",
              "15  https://www.seniorsadvocatebc.ca/osa-reports/s...  ...         Louise’s story Isabel’s story Edna’s story\n",
              "16  https://www.seniorsadvocatebc.ca/osa-reports/p...  ...  Up to 15% of B.C. seniors who are living in re...\n",
              "17  https://www.seniorsadvocatebc.ca/osa-reports/b...  ...                                                   \n",
              "18  https://www.seniorsadvocatebc.ca/osa-reports/t...  ...                                                   \n",
              "\n",
              "[19 rows x 5 columns]"
            ]
          },
          "metadata": {},
          "execution_count": 301
        }
      ]
    },
    {
      "cell_type": "code",
      "source": [
        "reports['body'][0]"
      ],
      "metadata": {
        "colab": {
          "base_uri": "https://localhost:8080/",
          "height": 87
        },
        "id": "m0n8rxchj2uO",
        "outputId": "d252f8b0-f0b0-4435-805d-fa815c7a2cb1"
      },
      "execution_count": 302,
      "outputs": [
        {
          "output_type": "execute_result",
          "data": {
            "application/vnd.google.colaboratory.intrinsic+json": {
              "type": "string"
            },
            "text/plain": [
              "'In this report, Seniors Advocate Isobel Mackenzie details the results of a systemic review of seniors’ abuse and neglect in British Columbia. The review examined the protections that exist for B.C. seniors, the prevalence of seniors’ abuse and neglect, the method of reporting abuse and neglect, and the response to reports of seniors’ abuse and neglect. The report examines current legislative protections, assesses reporting practices, reviews five years of existing data, consults with 144 stakeholders in 25 communities throughout B.C., and surveys over 1500 British Columbians. The review highlights that reports of abuse and neglect of people 65 and over have increased significantly in the past five years with: Key concerns heard by the Office of the Seniors Advocate (OSA) were the lack of public awareness, a fragmented reporting and response system, gaps in service, and the need for training for those working with seniors in the community. Emerging trends and issues in B.C. were listed as sources of concern, including self-neglect, physical, social, and cultural isolation, family caregivers, on-line security, and COVID-19. The report includes five recommendations: Read the reportRead the news release'"
            ]
          },
          "metadata": {},
          "execution_count": 302
        }
      ]
    },
    {
      "cell_type": "code",
      "source": [
        "pd.DataFrame(reports).to_csv('seniors_advocate_bc_reports.csv', encoding = 'utf-8-sig')"
      ],
      "metadata": {
        "id": "kAImH4WvijSg"
      },
      "execution_count": 303,
      "outputs": []
    },
    {
      "cell_type": "markdown",
      "source": [
        "### News Media\n",
        "Scraping of News Releases and Statements at https://www.seniorsadvocatebc.ca/news-media/"
      ],
      "metadata": {
        "id": "ocViF0m3mFWa"
      }
    },
    {
      "cell_type": "code",
      "source": [
        "news_url = \"https://www.seniorsadvocatebc.ca/news-media/\"\n",
        "news_page = requests.get(news_url)\n",
        "news_page"
      ],
      "metadata": {
        "colab": {
          "base_uri": "https://localhost:8080/"
        },
        "id": "xBU05OAymNqz",
        "outputId": "4bb61adb-07bd-4180-8727-3a94660f5b94"
      },
      "execution_count": 311,
      "outputs": [
        {
          "output_type": "execute_result",
          "data": {
            "text/plain": [
              "<Response [200]>"
            ]
          },
          "metadata": {},
          "execution_count": 311
        }
      ]
    },
    {
      "cell_type": "code",
      "source": [
        "soup = BeautifulSoup(news_page.content, 'html.parser')"
      ],
      "metadata": {
        "id": "pp2eXXbjmbrS"
      },
      "execution_count": 312,
      "outputs": []
    },
    {
      "cell_type": "code",
      "source": [
        "news = {}\n",
        "news['links'] = []\n",
        "news['dates'] = []\n",
        "news['titles'] = []\n",
        "news['content'] = []\n",
        "\n",
        "news_span = soup.find_all('span', class_ = 'accordion-post-date')\n",
        "[news['dates'].append(date.get_text()) for date in list(news_span)]\n",
        "\n",
        "news_a = soup.find_all('a', class_='accordion-post-title', href = True)\n",
        "[news['links'].append(link['href']) for link in news_a]\n",
        "[news['titles'].append(title.get_text().strip().replace('\\n', '')) for title in news_a]\n",
        "news['links']"
      ],
      "metadata": {
        "colab": {
          "base_uri": "https://localhost:8080/"
        },
        "id": "9n9wIL96mgcM",
        "outputId": "96509e69-12a2-4478-a083-5f82515ae85f"
      },
      "execution_count": 313,
      "outputs": [
        {
          "output_type": "execute_result",
          "data": {
            "text/plain": [
              "['https://www.seniorsadvocatebc.ca/app/uploads/sites/4/2022/01/January-6-OSA-NR-LTC-essential-visitors.pdf',\n",
              " 'https://www.seniorsadvocatebc.ca/app/uploads/sites/4/2021/12/2021-DEC-24-Statement-Cold-Weather.pdf',\n",
              " 'https://www.seniorsadvocatebc.ca/app/uploads/sites/4/2021/12/2021-DEC-22-Statement-Seniors-Advocate.pdf',\n",
              " 'https://www.seniorsadvocatebc.ca/app/uploads/sites/4/2021/12/LTCD2021-NR.pdf',\n",
              " 'https://www.seniorsadvocatebc.ca/app/uploads/sites/4/2021/12/Hidden-and-Invisible-NR.pdf',\n",
              " 'https://www.seniorsadvocatebc.ca/app/uploads/sites/4/2021/11/booster-doses-for-seniors-NR.pdf',\n",
              " 'https://www.seniorsadvocatebc.ca/app/uploads/sites/4/2021/10/Outbreak-Review-NR.pdf',\n",
              " 'https://www.seniorsadvocatebc.ca/app/uploads/sites/4/2021/10/International-Day-of-Older-Persons-20211001.pdf',\n",
              " 'https://www.seniorsadvocatebc.ca/app/uploads/sites/4/2021/06/World-Elder-Abuse-Awareness-Day-20210615.pdf',\n",
              " 'https://www.seniorsadvocatebc.ca/app/uploads/sites/4/2021/06/Statement-Seniors-Advocate-BC-Seniors-Week-2021.pdf',\n",
              " 'https://www.seniorsadvocatebc.ca/app/uploads/sites/4/2020/12/MonitoringReport-QuickFacts2020-NR.pdf',\n",
              " 'https://www.seniorsadvocatebc.ca/app/uploads/sites/4/2020/11/StayingApartToStaySafe-NR.pdf',\n",
              " 'https://www.seniorsadvocatebc.ca/app/uploads/sites/4/2020/10/Oct-1-International-Day-of-Older-Persons.pdf',\n",
              " 'https://www.seniorsadvocatebc.ca/app/uploads/sites/4/2020/08/LTC-AL-Survey-Visitor-Restrictions_NR-.pdf',\n",
              " 'https://www.seniorsadvocatebc.ca/app/uploads/sites/4/2020/06/June-23-NR-Seniors-Advocate-Property-Tax-Deferral.pdf',\n",
              " 'https://www.seniorsadvocatebc.ca/app/uploads/sites/4/2020/06/June-15-Statement-World-Elder-Abuse-Awareness-Day_.pdf',\n",
              " 'https://www.seniorsadvocatebc.ca/app/uploads/sites/4/2020/06/Statement-Seniors-Advocate-BC-Seniors-Week.pdf',\n",
              " 'https://www.seniorsadvocatebc.ca/app/uploads/sites/4/2020/02/ABillionReasonsToCare-NR.pdf',\n",
              " 'https://www.seniorsadvocatebc.ca/app/uploads/sites/4/2019/12/MonitoringReport2019-NR.pdf',\n",
              " 'https://www.seniorsadvocatebc.ca/app/uploads/sites/4/2019/09/QuickFacts2019-NR.pdf',\n",
              " 'https://www.seniorsadvocatebc.ca/app/uploads/sites/4/2019/10/International-Day-of-the-Older-Person-SA-Statement-Oct-1-2019.pdf',\n",
              " 'https://www.seniorsadvocatebc.ca/app/uploads/sites/4/2019/06/Home-Support-Review-NR.pdf',\n",
              " 'https://www.seniorsadvocatebc.ca/app/uploads/sites/4/2019/01/MonitoringReport2018-NR.pdf',\n",
              " 'https://www.seniorsadvocatebc.ca/app/uploads/sites/4/2018/11/Seniors-Advocate-reminds-residents-of-care-homes-to-update-address-information-to-obtain-referendum-ballot.pdf',\n",
              " 'https://www.seniorsadvocatebc.ca/app/uploads/sites/4/2018/10/Statement_Seniorsday_2018-2.pdf',\n",
              " 'https://www.seniorsadvocatebc.ca/app/uploads/sites/4/2018/08/ResidentialCaretoHospital-NR.pdf',\n",
              " 'https://www.seniorsadvocatebc.ca/app/uploads/sites/4/2018/05/Seniors-Transportation-NR.pdf',\n",
              " 'https://www.seniorsadvocatebc.ca/app/uploads/sites/4/2018/04/Tax-Reminder-NR-2018-Final.pdf',\n",
              " 'https://www.seniorsadvocatebc.ca/app/uploads/sites/4/2018/01/QuickFacts2018-NR.pdf',\n",
              " 'https://www.seniorsadvocatebc.ca/app/uploads/sites/4/2017/12/MonitoringReport2017-NR.pdf',\n",
              " 'https://www.seniorsadvocatebc.ca/app/uploads/sites/4/2017/09/Residential-Care-Survey-NR-Sept-15-Final.pdf',\n",
              " 'https://www.seniorsadvocatebc.ca/app/uploads/sites/4/2017/08/Caregiver-Distress-News-Release-Final.pdf',\n",
              " 'https://www.seniorsadvocatebc.ca/app/uploads/sites/4/2017/02/HandyDART-Survey-News-Release.pdf',\n",
              " 'https://www.seniorsadvocatebc.ca/app/uploads/sites/4/2017/01/Residential-Care-Quick-Facts-Directory-2017-News-Release.pdf',\n",
              " 'https://www.seniorsadvocatebc.ca/app/uploads/sites/4/2016/12/MONITORING-REPORT-2.0-NR-final.pdf',\n",
              " 'https://www.seniorsadvocatebc.ca/app/uploads/sites/4/2016/11/PDT-news-release-final-Nov-24.pdf',\n",
              " 'https://www.seniorsadvocatebc.ca/app/uploads/sites/4/2016/10/HandyDART-survey-final.pdf',\n",
              " 'https://www.seniorsadvocatebc.ca/app/uploads/sites/4/2016/09/Seniors-Advocate-opinion-piece-Int.-Day-of-the-Older-Person-2016.pdf',\n",
              " 'https://www.seniorsadvocatebc.ca/app/uploads/sites/4/2016/09/OSA-home-support-survey-findings-news-release.pdf',\n",
              " 'https://www.seniorsadvocatebc.ca/app/uploads/sites/4/2016/07/302679-Mayors-and-Councils-in-BC-Senior-Pedestrians-July-15-2016.pdf',\n",
              " 'https://www.seniorsadvocatebc.ca/app/uploads/sites/4/2016/07/Seniors-Income-data-NR.pdf',\n",
              " 'https://www.seniorsadvocatebc.ca/app/uploads/sites/4/2016/06/RRA-review-news-release.pdf',\n",
              " 'https://www.seniorsadvocatebc.ca/app/uploads/sites/4/2021/02/OpEd_From-Isobel-Mackenzie_GlobeandMail-Jun10-2016.pdf',\n",
              " 'https://www.seniorsadvocatebc.ca/app/uploads/sites/4/2016/06/property-tax-deferment-NR-Final.pdf',\n",
              " 'https://www.seniorsadvocatebc.ca/app/uploads/sites/4/2016/04/Tax-Reminder-NR-revised-April-28th.pdf',\n",
              " 'https://www.seniorsadvocatebc.ca/app/uploads/sites/4/2016/03/QUICK-FACTS-News-Release.pdf',\n",
              " 'https://www.seniorsadvocatebc.ca/app/uploads/sites/4/2016/01/MONITORING-REPORT-NR.pdf',\n",
              " 'https://www.seniorsadvocatebc.ca/app/uploads/sites/4/2016/01/OSA-MSP-Premiums-statement1.pdf',\n",
              " 'https://www.seniorsadvocatebc.ca/app/uploads/sites/4/2015/12/Victoria-Transit-Fare-Review-NR.pdf',\n",
              " 'https://www.seniorsadvocatebc.ca/app/uploads/sites/4/2015/09/National-Seniors-Day-op-ed.pdf',\n",
              " 'https://www.seniorsadvocatebc.ca/app/uploads/sites/4/2015/09/CaregiversReportNR.pdf',\n",
              " 'https://www.seniorsadvocatebc.ca/app/uploads/sites/4/2015/09/SeniorsHousingNR.pdf',\n",
              " 'https://www.seniorsadvocatebc.ca/app/uploads/sites/4/2015/09/PlacementNR.pdf',\n",
              " 'https://www.seniorsadvocatebc.ca/app/uploads/sites/4/2015/09/CouncilNR.pdf',\n",
              " 'https://www.seniorsadvocatebc.ca/app/uploads/sites/4/2015/09/SurveyNR.pdf',\n",
              " 'https://www.seniorsadvocatebc.ca/app/uploads/sites/4/2021/02/When-it-comes-to-seniors-its-not-all-about-health-care.pdf',\n",
              " 'https://www.seniorsadvocatebc.ca/app/uploads/sites/4/2015/09/SeniorsWealthOpEd.pdf',\n",
              " 'https://www.seniorsadvocatebc.ca/app/uploads/sites/4/2021/01/OpEd_From-Isobel-Mackenzie_Seniors-Week_June4_-2014.pdf']"
            ]
          },
          "metadata": {},
          "execution_count": 313
        }
      ]
    },
    {
      "cell_type": "code",
      "source": [
        "for link in news['links']:\n",
        "  url = link\n",
        "  response = requests.get(url)\n",
        "\n",
        "  # PDF parsing\n",
        "  with io.BytesIO(response.content) as f:\n",
        "    pdf = PdfFileReader(f)\n",
        "    pages = pdf.getNumPages()\n",
        "    pdf_content = []\n",
        "\n",
        "    for num_page in range(0, pages):\n",
        "      page = pdf.getPage(num_page)\n",
        "      pdf_content.append(page.extractText().strip().replace(\"\\n\", \"\"))\n",
        "    \n",
        "  news['content'].append(' '.join(pdf_content))"
      ],
      "metadata": {
        "id": "5PzfH2n4mrv6"
      },
      "execution_count": 314,
      "outputs": []
    },
    {
      "cell_type": "code",
      "source": [
        "pd.DataFrame(news).head()"
      ],
      "metadata": {
        "colab": {
          "base_uri": "https://localhost:8080/",
          "height": 206
        },
        "id": "dRWt9_KG2I-m",
        "outputId": "f8e03a09-9690-4641-bed7-dd5b8239c77f"
      },
      "execution_count": 316,
      "outputs": [
        {
          "output_type": "execute_result",
          "data": {
            "text/html": [
              "\n",
              "  <div id=\"df-b29c8652-c1f7-4685-a199-668bb948b6dc\">\n",
              "    <div class=\"colab-df-container\">\n",
              "      <div>\n",
              "<style scoped>\n",
              "    .dataframe tbody tr th:only-of-type {\n",
              "        vertical-align: middle;\n",
              "    }\n",
              "\n",
              "    .dataframe tbody tr th {\n",
              "        vertical-align: top;\n",
              "    }\n",
              "\n",
              "    .dataframe thead th {\n",
              "        text-align: right;\n",
              "    }\n",
              "</style>\n",
              "<table border=\"1\" class=\"dataframe\">\n",
              "  <thead>\n",
              "    <tr style=\"text-align: right;\">\n",
              "      <th></th>\n",
              "      <th>links</th>\n",
              "      <th>dates</th>\n",
              "      <th>titles</th>\n",
              "      <th>content</th>\n",
              "    </tr>\n",
              "  </thead>\n",
              "  <tbody>\n",
              "    <tr>\n",
              "      <th>0</th>\n",
              "      <td>https://www.seniorsadvocatebc.ca/app/uploads/s...</td>\n",
              "      <td>Jan 06, 2022</td>\n",
              "      <td>Statement from Seniors Advocate Isobel Mackenz...</td>\n",
              "      <td>FOR IMMEDIATE RELEASE        NEWS RELEASE Janu...</td>\n",
              "    </tr>\n",
              "    <tr>\n",
              "      <th>1</th>\n",
              "      <td>https://www.seniorsadvocatebc.ca/app/uploads/s...</td>\n",
              "      <td>Dec 24, 2021</td>\n",
              "      <td>Statement from Seniors Advocate Isobel Mackenz...</td>\n",
              "      <td>Office of the Seniors Advocate Province of Bri...</td>\n",
              "    </tr>\n",
              "    <tr>\n",
              "      <th>2</th>\n",
              "      <td>https://www.seniorsadvocatebc.ca/app/uploads/s...</td>\n",
              "      <td>Dec 22, 2021</td>\n",
              "      <td>Statement from Seniors Advocate Isobel Mackenz...</td>\n",
              "      <td>STATEMENT  FOR IMMEDIATE RELEASE December 22, ...</td>\n",
              "    </tr>\n",
              "    <tr>\n",
              "      <th>3</th>\n",
              "      <td>https://www.seniorsadvocatebc.ca/app/uploads/s...</td>\n",
              "      <td>Dec 15, 2021</td>\n",
              "      <td>B.C. Seniors Advocate Releases Updated Long-Te...</td>\n",
              "      <td>NEWS RELEASE  FOR IMMEDIATE RELEASE December 1...</td>\n",
              "    </tr>\n",
              "    <tr>\n",
              "      <th>4</th>\n",
              "      <td>https://www.seniorsadvocatebc.ca/app/uploads/s...</td>\n",
              "      <td>Dec 08, 2021</td>\n",
              "      <td>B.C. Seniors Advocate Calls for Increased Awar...</td>\n",
              "      <td>NEWS RELEASE  FOR IMMEDIATE RELEASE December 8...</td>\n",
              "    </tr>\n",
              "  </tbody>\n",
              "</table>\n",
              "</div>\n",
              "      <button class=\"colab-df-convert\" onclick=\"convertToInteractive('df-b29c8652-c1f7-4685-a199-668bb948b6dc')\"\n",
              "              title=\"Convert this dataframe to an interactive table.\"\n",
              "              style=\"display:none;\">\n",
              "        \n",
              "  <svg xmlns=\"http://www.w3.org/2000/svg\" height=\"24px\"viewBox=\"0 0 24 24\"\n",
              "       width=\"24px\">\n",
              "    <path d=\"M0 0h24v24H0V0z\" fill=\"none\"/>\n",
              "    <path d=\"M18.56 5.44l.94 2.06.94-2.06 2.06-.94-2.06-.94-.94-2.06-.94 2.06-2.06.94zm-11 1L8.5 8.5l.94-2.06 2.06-.94-2.06-.94L8.5 2.5l-.94 2.06-2.06.94zm10 10l.94 2.06.94-2.06 2.06-.94-2.06-.94-.94-2.06-.94 2.06-2.06.94z\"/><path d=\"M17.41 7.96l-1.37-1.37c-.4-.4-.92-.59-1.43-.59-.52 0-1.04.2-1.43.59L10.3 9.45l-7.72 7.72c-.78.78-.78 2.05 0 2.83L4 21.41c.39.39.9.59 1.41.59.51 0 1.02-.2 1.41-.59l7.78-7.78 2.81-2.81c.8-.78.8-2.07 0-2.86zM5.41 20L4 18.59l7.72-7.72 1.47 1.35L5.41 20z\"/>\n",
              "  </svg>\n",
              "      </button>\n",
              "      \n",
              "  <style>\n",
              "    .colab-df-container {\n",
              "      display:flex;\n",
              "      flex-wrap:wrap;\n",
              "      gap: 12px;\n",
              "    }\n",
              "\n",
              "    .colab-df-convert {\n",
              "      background-color: #E8F0FE;\n",
              "      border: none;\n",
              "      border-radius: 50%;\n",
              "      cursor: pointer;\n",
              "      display: none;\n",
              "      fill: #1967D2;\n",
              "      height: 32px;\n",
              "      padding: 0 0 0 0;\n",
              "      width: 32px;\n",
              "    }\n",
              "\n",
              "    .colab-df-convert:hover {\n",
              "      background-color: #E2EBFA;\n",
              "      box-shadow: 0px 1px 2px rgba(60, 64, 67, 0.3), 0px 1px 3px 1px rgba(60, 64, 67, 0.15);\n",
              "      fill: #174EA6;\n",
              "    }\n",
              "\n",
              "    [theme=dark] .colab-df-convert {\n",
              "      background-color: #3B4455;\n",
              "      fill: #D2E3FC;\n",
              "    }\n",
              "\n",
              "    [theme=dark] .colab-df-convert:hover {\n",
              "      background-color: #434B5C;\n",
              "      box-shadow: 0px 1px 3px 1px rgba(0, 0, 0, 0.15);\n",
              "      filter: drop-shadow(0px 1px 2px rgba(0, 0, 0, 0.3));\n",
              "      fill: #FFFFFF;\n",
              "    }\n",
              "  </style>\n",
              "\n",
              "      <script>\n",
              "        const buttonEl =\n",
              "          document.querySelector('#df-b29c8652-c1f7-4685-a199-668bb948b6dc button.colab-df-convert');\n",
              "        buttonEl.style.display =\n",
              "          google.colab.kernel.accessAllowed ? 'block' : 'none';\n",
              "\n",
              "        async function convertToInteractive(key) {\n",
              "          const element = document.querySelector('#df-b29c8652-c1f7-4685-a199-668bb948b6dc');\n",
              "          const dataTable =\n",
              "            await google.colab.kernel.invokeFunction('convertToInteractive',\n",
              "                                                     [key], {});\n",
              "          if (!dataTable) return;\n",
              "\n",
              "          const docLinkHtml = 'Like what you see? Visit the ' +\n",
              "            '<a target=\"_blank\" href=https://colab.research.google.com/notebooks/data_table.ipynb>data table notebook</a>'\n",
              "            + ' to learn more about interactive tables.';\n",
              "          element.innerHTML = '';\n",
              "          dataTable['output_type'] = 'display_data';\n",
              "          await google.colab.output.renderOutput(dataTable, element);\n",
              "          const docLink = document.createElement('div');\n",
              "          docLink.innerHTML = docLinkHtml;\n",
              "          element.appendChild(docLink);\n",
              "        }\n",
              "      </script>\n",
              "    </div>\n",
              "  </div>\n",
              "  "
            ],
            "text/plain": [
              "                                               links  ...                                            content\n",
              "0  https://www.seniorsadvocatebc.ca/app/uploads/s...  ...  FOR IMMEDIATE RELEASE        NEWS RELEASE Janu...\n",
              "1  https://www.seniorsadvocatebc.ca/app/uploads/s...  ...  Office of the Seniors Advocate Province of Bri...\n",
              "2  https://www.seniorsadvocatebc.ca/app/uploads/s...  ...  STATEMENT  FOR IMMEDIATE RELEASE December 22, ...\n",
              "3  https://www.seniorsadvocatebc.ca/app/uploads/s...  ...  NEWS RELEASE  FOR IMMEDIATE RELEASE December 1...\n",
              "4  https://www.seniorsadvocatebc.ca/app/uploads/s...  ...  NEWS RELEASE  FOR IMMEDIATE RELEASE December 8...\n",
              "\n",
              "[5 rows x 4 columns]"
            ]
          },
          "metadata": {},
          "execution_count": 316
        }
      ]
    },
    {
      "cell_type": "code",
      "source": [
        "news['content'][0]"
      ],
      "metadata": {
        "colab": {
          "base_uri": "https://localhost:8080/",
          "height": 244
        },
        "id": "ogc0Z9d_2R6d",
        "outputId": "3b48420a-6db3-4484-ef9c-256194265270"
      },
      "execution_count": 318,
      "outputs": [
        {
          "output_type": "execute_result",
          "data": {
            "application/vnd.google.colaboratory.intrinsic+json": {
              "type": "string"
            },
            "text/plain": [
              "'FOR IMMEDIATE RELEASE        NEWS RELEASE January 6, 2022   Every Resident in Long-  Victoria, B.C. B.C. Seniors Advocate, Isobel Mackenzie is asking the Province to declare that every resident in long term care is entitled to designate at least one person as their essential visitor.  While we can all understand the need to limit the number of visitors to long-term care during this latest wave of COVID-19, returning to essential visitors without declaring that every resident is entitled to at least one essential visitor has effectively left the majority of long-term care residents without visits from loved ones, said Mackenzie.  In November 2020, the Office of the Seniors Advocate (OSA) issued the report Staying Apart to Stay Safe: The Impact of Visit Restrictions on Long-Term Care and Assisted Living Survey, which highlighted the impact of visitor restrictions on residents and their family members. In this report, OSA identified that 52% of requests made by residents to designate an essential visitor were denied. The Seniors Advocate issued the recommendation in this report that all residents be provided the opportunity to designate an essential visitor.   To date, no changes have been made to the process for determining if a resident meets the criteria to be designated an essential visitor. The determination is made by the administrator of the care facility on a case-by-case basis. Essentials visits can include, but are not limited to:  Visits for compassionate care, including critical illness, palliative care, hospice care, end of life, and Medical Assistance in Dying  -being, including assistance with feeding, mobility, and personal care  Communication assistance for persons with hearing, visual, speech, cognitive, intellectual or memory impairments  Assistance by designated representatives for persons with disabilities  Visits for supported decision making   receiving phone calls and emails from family members, including spouses, who were advised they could no longer visit their loved one, even though they offer vital support and care. They help to feed their loved one, get them dressed, take them for walks, and keep them engaged. For many residents, these visitors are the only people who can motivate them to engage in any activities, and yet they are not formally recognized as essential,  Current public health orders allow essential visitors to continue to visit if an outbreak is declared at a facility while social visit suspended for the duration of the outbreak. Prior to visiting, all visitors to long-term care facility must be fully vaccinated and rapid antigen tests are administered. are home operators are significantly over-burdened. They need the clarity from the province that every resident is entitled to an essential visitor and be relieved of the staff resources required to manage the essential visitor designation process. As B.C. faces its most prolific wave of this pandemic, care homes need to plan for staff absences of up to 30%, and we know that the care provided to residents by essential visitors can help manage an overburdened care home. I urge the province to empower residents in long-term care to choose a designated essential visitor, as it is only the resident and their families who truly know who is essential to their health and well-being,concluded Mackenzie   Media Contact: OSA Communications P: 250-213-2024  E: osa.comms@gov.bc.ca'"
            ]
          },
          "metadata": {},
          "execution_count": 318
        }
      ]
    },
    {
      "cell_type": "code",
      "source": [
        "pd.DataFrame(news).to_csv('seniors_advocate_bc_news.csv', encoding = 'utf-8-sig')"
      ],
      "metadata": {
        "id": "_yziTMsl2VgY"
      },
      "execution_count": 320,
      "outputs": []
    }
  ]
}